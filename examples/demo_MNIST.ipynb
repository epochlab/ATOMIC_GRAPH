{
 "cells": [
  {
   "cell_type": "code",
   "execution_count": 2,
   "metadata": {},
   "outputs": [],
   "source": [
    "import os, requests, gzip, hashlib\n",
    "import numpy as np\n",
    "import matplotlib.pyplot as plt\n",
    "\n",
    "from atomic_graph.engine import Value"
   ]
  },
  {
   "cell_type": "code",
   "execution_count": 3,
   "metadata": {},
   "outputs": [],
   "source": [
    "def load_mnist():\n",
    "    class_names = ['0', '1', '2', '3', '4', '5', '6', '7', '8', '9']\n",
    "\n",
    "    x_train = fetch('http://yann.lecun.com/exdb/mnist/train-images-idx3-ubyte.gz')[0x10:]\n",
    "    y_train = fetch('http://yann.lecun.com/exdb/mnist/train-labels-idx1-ubyte.gz')[8:]\n",
    "    x_test = fetch('http://yann.lecun.com/exdb/mnist/t10k-images-idx3-ubyte.gz')[0x10:]\n",
    "    y_test = fetch('http://yann.lecun.com/exdb/mnist/t10k-labels-idx1-ubyte.gz')[8:]\n",
    "\n",
    "    x_train = x_train.astype('float32') / 255.0\n",
    "    x_test = x_test.astype('float32') / 255.0\n",
    "\n",
    "    x_train = x_train.reshape(-1, 28, 28, 1)\n",
    "    x_test = x_test.reshape(-1, 28, 28, 1)\n",
    "\n",
    "    return (x_train, y_train), (x_test, y_test), class_names\n",
    "\n",
    "def fetch(url):\n",
    "    filepath = os.path.join(\"/tmp\", hashlib.md5(url.encode('utf-8')).hexdigest())\n",
    "    if os.path.isfile(filepath):\n",
    "        with open(filepath, 'rb') as f:\n",
    "            data = f.read()\n",
    "    else:\n",
    "        with open(filepath, 'wb') as f:\n",
    "            data = requests.get(url).content\n",
    "            f.write(data)\n",
    "    return np.frombuffer(gzip.decompress(data), dtype=np.uint8).copy()"
   ]
  },
  {
   "cell_type": "code",
   "execution_count": 4,
   "metadata": {},
   "outputs": [
    {
     "name": "stdout",
     "output_type": "stream",
     "text": [
      "Training Dataset Shape: (60000, 28, 28, 1)\n",
      "Number of training images: 60000\n",
      "Number of training labels: 60000\n",
      "Number of test images: 10000\n",
      "Number of test labels: 10000\n"
     ]
    }
   ],
   "source": [
    "(x_train, y_train), (x_test, y_test), class_names = load_mnist()\n",
    "\n",
    "print('Training Dataset Shape:', x_train.shape)\n",
    "print('Number of training images:', x_train.shape[0])\n",
    "print(\"Number of training labels:\", (len(y_train)))\n",
    "print('Number of test images:', x_test.shape[0])\n",
    "print(\"Number of test labels:\", (len(y_test)))"
   ]
  },
  {
   "cell_type": "code",
   "execution_count": 5,
   "metadata": {},
   "outputs": [],
   "source": [
    "def calculate_loss(X,Y,W):\n",
    "    loss = -(1 / X.shape[0]) * np.sum(np.sum(Y * np.log(np.exp(np.matmul(X, W)) / np.sum(np.exp(np.matmul(X, W)), axis=1)[:, None]), axis=1))\n",
    "    return loss"
   ]
  },
  {
   "cell_type": "code",
   "execution_count": 6,
   "metadata": {},
   "outputs": [],
   "source": [
    "def to_categorical(y, num_classes):\n",
    "    \"\"\" 1-hot encoding \"\"\"\n",
    "    y = np.array(y, dtype=\"int\")\n",
    "    return np.eye(num_classes, dtype='uint8')[y]"
   ]
  },
  {
   "cell_type": "code",
   "execution_count": 7,
   "metadata": {},
   "outputs": [],
   "source": [
    "train_images = x_train.reshape(60000, 784)\n",
    "test_images = x_test.reshape(10000, 784)\n",
    "train_idx = to_categorical(y_train, len(class_names))"
   ]
  },
  {
   "cell_type": "code",
   "execution_count": 8,
   "metadata": {},
   "outputs": [
    {
     "data": {
      "text/plain": [
       "(784, 10)"
      ]
     },
     "execution_count": 8,
     "metadata": {},
     "output_type": "execute_result"
    }
   ],
   "source": [
    "Wb = Value(np.random.randn(x_train[0].shape[0] * x_train[0].shape[1], len(class_names)))\n",
    "Wb.shape()"
   ]
  },
  {
   "cell_type": "code",
   "execution_count": 9,
   "metadata": {},
   "outputs": [
    {
     "name": "stdout",
     "output_type": "stream",
     "text": [
      "Epoch: 0 | Loss: 14.66962\n",
      "Epoch: 1000 | Loss: 0.72216\n",
      "Epoch: 2000 | Loss: 0.54474\n",
      "Epoch: 3000 | Loss: 0.49245\n",
      "Epoch: 4000 | Loss: 0.46259\n",
      "Epoch: 5000 | Loss: 0.42223\n",
      "Epoch: 6000 | Loss: 0.39641\n",
      "Epoch: 7000 | Loss: 0.39460\n",
      "Epoch: 8000 | Loss: 0.36867\n",
      "Epoch: 9000 | Loss: 0.36229\n",
      "Epoch: 10000 | Loss: 0.36374\n",
      "Epoch: 11000 | Loss: 0.34662\n",
      "Epoch: 12000 | Loss: 0.35589\n",
      "Epoch: 13000 | Loss: 0.34033\n",
      "Epoch: 14000 | Loss: 0.32441\n",
      "Epoch: 15000 | Loss: 0.32178\n",
      "Epoch: 16000 | Loss: 0.33423\n",
      "Epoch: 17000 | Loss: 0.31201\n",
      "Epoch: 18000 | Loss: 0.31384\n",
      "Epoch: 19000 | Loss: 0.33357\n"
     ]
    }
   ],
   "source": [
    "batch_size = 32\n",
    "epochs = 20000\n",
    "\n",
    "for i in range(epochs):\n",
    "    ri = np.random.permutation(train_images.shape[0])[:batch_size]\n",
    "    Xb, Yb = Value(train_images[ri]), Value(train_idx[ri])\n",
    "\n",
    "    y_pred = Xb.matmul(Wb)\n",
    "    \n",
    "    probs = y_pred.softmax()\n",
    "    log_probs = probs.log()\n",
    "\n",
    "    Zb = Yb * log_probs\n",
    "\n",
    "    cost = Zb.reduce_sum(axis=1).reduce_sum()  #Cross-entropy\n",
    "    cost.backward()\n",
    "\n",
    "    if i % 1000 == 0:\n",
    "        loss = calculate_loss(train_images, train_idx, Wb.data)\n",
    "        print(f'Epoch: {i} | Loss: {loss:.5f}')\n",
    "\n",
    "    Wb.data = Wb.data + 0.01 * Wb.grad\n",
    "    Wb.grad = 0"
   ]
  },
  {
   "cell_type": "code",
   "execution_count": 10,
   "metadata": {},
   "outputs": [],
   "source": [
    "def predict(x_in, W):\n",
    "    pred = x_in.matmul(W)\n",
    "    return pred.data.argmax()"
   ]
  },
  {
   "cell_type": "code",
   "execution_count": 11,
   "metadata": {},
   "outputs": [
    {
     "name": "stdout",
     "output_type": "stream",
     "text": [
      "Ground truth: 6\n",
      "Prediction: 6\n"
     ]
    },
    {
     "data": {
      "image/png": "[encoded data removed]",
      "text/plain": [
       "<Figure size 640x480 with 1 Axes>"
      ]
     },
     "metadata": {},
     "output_type": "display_data"
    }
   ],
   "source": [
    "index = 123\n",
    "print(\"Ground truth:\", y_test[index])\n",
    "plt.imshow(x_test[index])\n",
    "\n",
    "print(\"Prediction:\", predict(Value(test_images[index]), Wb))"
   ]
  }
 ],
 "metadata": {
  "kernelspec": {
   "display_name": "dev",
   "language": "python",
   "name": "python3"
  },
  "language_info": {
   "codemirror_mode": {
    "name": "ipython",
    "version": 3
   },
   "file_extension": ".py",
   "mimetype": "text/x-python",
   "name": "python",
   "nbconvert_exporter": "python",
   "pygments_lexer": "ipython3",
   "version": "3.9.13"
  },
  "orig_nbformat": 4,
  "vscode": {
   "interpreter": {
    "hash": "e22c083f026c7769b83b8857fa3ac4d22c31dd61e89868550b0afe4a500a3cf3"
   }
  }
 },
 "nbformat": 4,
 "nbformat_minor": 2
}

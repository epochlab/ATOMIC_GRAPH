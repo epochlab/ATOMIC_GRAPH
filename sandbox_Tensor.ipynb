{
 "cells": [
  {
   "cell_type": "code",
   "execution_count": 3,
   "metadata": {},
   "outputs": [],
   "source": [
    "import numpy as np"
   ]
  },
  {
   "cell_type": "code",
   "execution_count": 4,
   "metadata": {},
   "outputs": [],
   "source": [
    "class Tensor:\n",
    "    \"\"\" N-dimensional array which stores a scalar [n0], vector [n1]\n",
    "        or matrix [n2] of Tensors. \"\"\"\n",
    "\n",
    "    def __init__(self, data, _children=(), _op=''):\n",
    "        self.data = np.array(data, dtype=np.float32)\n",
    "        self.grad = None\n",
    "        self._prev = set(_children)\n",
    "        self._op = _op\n",
    "\n",
    "        self.shape = self.data.shape\n",
    "\n",
    "    def __add__(self, other): return Tensor(self.data + other.data, (self, other), '+')\n",
    "    def __mul__(self, other): return Tensor(self.data * other.data, (self, other), '*')\n",
    "\n",
    "    def deepwalk(self):\n",
    "        def _deepwalk(node, visited, nodes):\n",
    "            if node not in visited:\n",
    "                visited.add(node)\n",
    "                for child in node._prev:\n",
    "                    _deepwalk(child, visited, nodes)\n",
    "                nodes.append(node)\n",
    "            return nodes  \n",
    "        return _deepwalk(self, set(), [])\n",
    "\n",
    "    def backward(self):\n",
    "        self.grad = np.ones_like(self.data)\n",
    "\n",
    "    def __repr__(self):\n",
    "        return \"Tensor %r\" % (self.data)"
   ]
  },
  {
   "cell_type": "code",
   "execution_count": 5,
   "metadata": {},
   "outputs": [],
   "source": [
    "size = 5\n",
    "\n",
    "a = Tensor(np.ones([size, size]))\n",
    "b = Tensor(np.random.rand(size, size))"
   ]
  },
  {
   "cell_type": "code",
   "execution_count": 6,
   "metadata": {},
   "outputs": [],
   "source": [
    "c = a + b"
   ]
  },
  {
   "cell_type": "code",
   "execution_count": 7,
   "metadata": {},
   "outputs": [
    {
     "data": {
      "text/plain": [
       "Tensor array(-8., dtype=float32)"
      ]
     },
     "execution_count": 7,
     "metadata": {},
     "output_type": "execute_result"
    }
   ],
   "source": [
    "a = Tensor(2.0)\n",
    "b = Tensor(-3.0)\n",
    "c = Tensor(10.0)\n",
    "d = a * b\n",
    "e = d + c\n",
    "f = Tensor(-2.0)\n",
    "L = e * f\n",
    "L"
   ]
  },
  {
   "cell_type": "code",
   "execution_count": 8,
   "metadata": {},
   "outputs": [
    {
     "data": {
      "text/plain": [
       "[Tensor array(2., dtype=float32),\n",
       " Tensor array(-3., dtype=float32),\n",
       " Tensor array(-6., dtype=float32),\n",
       " Tensor array(10., dtype=float32),\n",
       " Tensor array(4., dtype=float32),\n",
       " Tensor array(-2., dtype=float32),\n",
       " Tensor array(-8., dtype=float32)]"
      ]
     },
     "execution_count": 8,
     "metadata": {},
     "output_type": "execute_result"
    }
   ],
   "source": [
    "L.deepwalk()"
   ]
  }
 ],
 "metadata": {
  "kernelspec": {
   "display_name": "Python 3.9.13 ('dev')",
   "language": "python",
   "name": "python3"
  },
  "language_info": {
   "codemirror_mode": {
    "name": "ipython",
    "version": 3
   },
   "file_extension": ".py",
   "mimetype": "text/x-python",
   "name": "python",
   "nbconvert_exporter": "python",
   "pygments_lexer": "ipython3",
   "version": "3.9.13"
  },
  "orig_nbformat": 4,
  "vscode": {
   "interpreter": {
    "hash": "e22c083f026c7769b83b8857fa3ac4d22c31dd61e89868550b0afe4a500a3cf3"
   }
  }
 },
 "nbformat": 4,
 "nbformat_minor": 2
}

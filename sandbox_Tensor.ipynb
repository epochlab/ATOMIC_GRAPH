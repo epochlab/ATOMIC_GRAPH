{
 "cells": [
  {
   "cell_type": "code",
   "execution_count": 1,
   "metadata": {},
   "outputs": [],
   "source": [
    "import numpy as np"
   ]
  },
  {
   "cell_type": "code",
   "execution_count": 2,
   "metadata": {},
   "outputs": [],
   "source": [
    "class Tensor:\n",
    "    \"\"\" N-dimensional array which stores a scalar [n0], vector [n1]\n",
    "        or matrix [n2] of Tensors. \"\"\"\n",
    "\n",
    "    def __init__(self, data, _children=(), _op=''):\n",
    "        self.data = np.array(data, dtype=np.float32)\n",
    "        self.grad = None\n",
    "        self._prev = set(_children)\n",
    "        self._op = _op\n",
    "\n",
    "        self.shape = self.data.shape\n",
    "\n",
    "    def __add__(self, other): return Tensor(self.data + other.data, (self, other), '+')\n",
    "    def __mul__(self, other): return Tensor(self.data * other.data, (self, other), '*')\n",
    "\n",
    "    def deepwalk(self):\n",
    "        def _deepwalk(node, visited, nodes):\n",
    "            if node not in visited:\n",
    "                visited.add(node)\n",
    "                [_deepwalk(child, visited, nodes) for child in node._prev]\n",
    "                nodes.append(node)\n",
    "            return nodes  \n",
    "        return _deepwalk(self, set(), [])\n",
    "\n",
    "    def backward(self):\n",
    "        self.grad = np.ones_like(self.data)         # Implicit Gradient\n",
    "\n",
    "        for node in reversed(self.deepwalk()):\n",
    "            # node._backward()\n",
    "            print(node)\n",
    "\n",
    "    def __repr__(self):\n",
    "        return \"Tensor %r\" % (self.data)"
   ]
  },
  {
   "cell_type": "code",
   "execution_count": 3,
   "metadata": {},
   "outputs": [],
   "source": [
    "size = 5\n",
    "\n",
    "a = Tensor(np.full([size, size], 3.0))\n",
    "b = Tensor(np.random.rand(size, size))"
   ]
  },
  {
   "cell_type": "code",
   "execution_count": 4,
   "metadata": {},
   "outputs": [],
   "source": [
    "c = a + b"
   ]
  },
  {
   "cell_type": "code",
   "execution_count": 5,
   "metadata": {},
   "outputs": [
    {
     "name": "stdout",
     "output_type": "stream",
     "text": [
      "Tensor array([[3.4658751, 3.4546258, 3.6610346, 3.9402392, 3.6107411],\n",
      "       [3.3190267, 3.3924806, 3.9972265, 3.8286443, 3.8346748],\n",
      "       [3.1612353, 3.138622 , 3.167528 , 3.4987886, 3.942542 ],\n",
      "       [3.3734179, 3.7220373, 3.952778 , 3.4713995, 3.7046697],\n",
      "       [3.2325518, 3.5636   , 3.9292731, 3.798597 , 3.5452614]],\n",
      "      dtype=float32)\n",
      "Tensor array([[3., 3., 3., 3., 3.],\n",
      "       [3., 3., 3., 3., 3.],\n",
      "       [3., 3., 3., 3., 3.],\n",
      "       [3., 3., 3., 3., 3.],\n",
      "       [3., 3., 3., 3., 3.]], dtype=float32)\n",
      "Tensor array([[0.46587524, 0.4546258 , 0.66103446, 0.94023925, 0.610741  ],\n",
      "       [0.3190267 , 0.39248052, 0.9972265 , 0.8286443 , 0.8346747 ],\n",
      "       [0.16123521, 0.13862215, 0.16752782, 0.49878854, 0.942542  ],\n",
      "       [0.37341774, 0.7220373 , 0.95277816, 0.47139955, 0.70466965],\n",
      "       [0.23255181, 0.5636002 , 0.929273  , 0.79859704, 0.5452615 ]],\n",
      "      dtype=float32)\n"
     ]
    }
   ],
   "source": [
    "c.backward()"
   ]
  },
  {
   "cell_type": "code",
   "execution_count": 6,
   "metadata": {},
   "outputs": [
    {
     "data": {
      "text/plain": [
       "array([[1., 1., 1., 1., 1.],\n",
       "       [1., 1., 1., 1., 1.],\n",
       "       [1., 1., 1., 1., 1.],\n",
       "       [1., 1., 1., 1., 1.],\n",
       "       [1., 1., 1., 1., 1.]], dtype=float32)"
      ]
     },
     "execution_count": 6,
     "metadata": {},
     "output_type": "execute_result"
    }
   ],
   "source": [
    "c.grad"
   ]
  },
  {
   "cell_type": "code",
   "execution_count": 7,
   "metadata": {},
   "outputs": [],
   "source": [
    "# a = Tensor(2.0)\n",
    "# b = Tensor(-3.0)\n",
    "# c = Tensor(10.0)\n",
    "# d = a * b\n",
    "# e = d + c\n",
    "# f = Tensor(-2.0)\n",
    "# L = e * f\n",
    "# L"
   ]
  }
 ],
 "metadata": {
  "kernelspec": {
   "display_name": "Python 3.9.13 ('dev')",
   "language": "python",
   "name": "python3"
  },
  "language_info": {
   "codemirror_mode": {
    "name": "ipython",
    "version": 3
   },
   "file_extension": ".py",
   "mimetype": "text/x-python",
   "name": "python",
   "nbconvert_exporter": "python",
   "pygments_lexer": "ipython3",
   "version": "3.9.13"
  },
  "orig_nbformat": 4,
  "vscode": {
   "interpreter": {
    "hash": "e22c083f026c7769b83b8857fa3ac4d22c31dd61e89868550b0afe4a500a3cf3"
   }
  }
 },
 "nbformat": 4,
 "nbformat_minor": 2
}

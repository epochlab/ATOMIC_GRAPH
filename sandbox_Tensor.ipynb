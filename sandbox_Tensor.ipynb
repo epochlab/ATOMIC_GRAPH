{
 "cells": [
  {
   "cell_type": "code",
   "execution_count": 29,
   "metadata": {},
   "outputs": [],
   "source": [
    "import numpy as np"
   ]
  },
  {
   "cell_type": "code",
   "execution_count": 30,
   "metadata": {},
   "outputs": [],
   "source": [
    "class Tensor:\n",
    "    \"\"\" N-dimensional array which stores a scalar [n0], vector [n1]\n",
    "        or matrix [n2] of Tensors. \"\"\"\n",
    "\n",
    "    def __init__(self, data, _children=(), _op=''):\n",
    "        self.data = np.array(data, dtype=np.float32)\n",
    "        self.grad = None\n",
    "        self._prev = set(_children)\n",
    "        self._op = _op\n",
    "\n",
    "        self.shape = self.data.shape\n",
    "\n",
    "    def __add__(self, other): return Tensor(self.data + other.data, (self, other), '+')\n",
    "    def __mul__(self, other): return Tensor(self.data * other.data, (self, other), '*')\n",
    "\n",
    "    def deepwalk(self):\n",
    "        def _deepwalk(node, visited, nodes):\n",
    "            if node not in visited:\n",
    "                visited.add(node)\n",
    "                [_deepwalk(child, visited, nodes) for child in node._prev]\n",
    "                nodes.append(node)\n",
    "            return nodes  \n",
    "        return _deepwalk(self, set(), [])\n",
    "\n",
    "    def backward(self):\n",
    "        self.grad = np.ones_like(self.data)         # Implicit Gradient\n",
    "\n",
    "        for node in reversed(self.deepwalk()):\n",
    "            # node._backward()\n",
    "            print(node)\n",
    "\n",
    "    def __repr__(self):\n",
    "        return \"Tensor %r\" % (self.data)"
   ]
  },
  {
   "cell_type": "code",
   "execution_count": 31,
   "metadata": {},
   "outputs": [],
   "source": [
    "size = 4\n",
    "\n",
    "a = Tensor(np.full([size, size], 3.0))\n",
    "b = Tensor(np.random.rand(size, size))"
   ]
  },
  {
   "cell_type": "code",
   "execution_count": 32,
   "metadata": {},
   "outputs": [],
   "source": [
    "c = a + b"
   ]
  },
  {
   "cell_type": "code",
   "execution_count": 33,
   "metadata": {},
   "outputs": [
    {
     "name": "stdout",
     "output_type": "stream",
     "text": [
      "Tensor array([[3.829058 , 3.667029 , 3.6693394, 3.556047 ],\n",
      "       [3.3384883, 3.1318815, 3.3234928, 3.9494953],\n",
      "       [3.5450993, 3.6842158, 3.617145 , 3.35165  ],\n",
      "       [3.3391564, 3.0987747, 3.995421 , 3.7732759]], dtype=float32)\n",
      "Tensor array([[0.82905793, 0.667029  , 0.6693395 , 0.5560471 ],\n",
      "       [0.3384883 , 0.13188149, 0.32349277, 0.94949526],\n",
      "       [0.5450993 , 0.68421584, 0.617145  , 0.35165003],\n",
      "       [0.33915648, 0.09877465, 0.99542105, 0.77327585]], dtype=float32)\n",
      "Tensor array([[3., 3., 3., 3.],\n",
      "       [3., 3., 3., 3.],\n",
      "       [3., 3., 3., 3.],\n",
      "       [3., 3., 3., 3.]], dtype=float32)\n"
     ]
    }
   ],
   "source": [
    "c.backward()"
   ]
  },
  {
   "cell_type": "code",
   "execution_count": 34,
   "metadata": {},
   "outputs": [
    {
     "data": {
      "text/plain": [
       "array([[1., 1., 1., 1.],\n",
       "       [1., 1., 1., 1.],\n",
       "       [1., 1., 1., 1.],\n",
       "       [1., 1., 1., 1.]], dtype=float32)"
      ]
     },
     "execution_count": 34,
     "metadata": {},
     "output_type": "execute_result"
    }
   ],
   "source": [
    "c.grad"
   ]
  },
  {
   "cell_type": "code",
   "execution_count": 35,
   "metadata": {},
   "outputs": [],
   "source": [
    "# a = Tensor(2.0)\n",
    "# b = Tensor(-3.0)\n",
    "# c = Tensor(10.0)\n",
    "# d = a * b\n",
    "# e = d + c\n",
    "# f = Tensor(-2.0)\n",
    "# L = e * f\n",
    "# L"
   ]
  }
 ],
 "metadata": {
  "kernelspec": {
   "display_name": "Python 3.9.13 ('dev')",
   "language": "python",
   "name": "python3"
  },
  "language_info": {
   "codemirror_mode": {
    "name": "ipython",
    "version": 3
   },
   "file_extension": ".py",
   "mimetype": "text/x-python",
   "name": "python",
   "nbconvert_exporter": "python",
   "pygments_lexer": "ipython3",
   "version": "3.9.13"
  },
  "orig_nbformat": 4,
  "vscode": {
   "interpreter": {
    "hash": "e22c083f026c7769b83b8857fa3ac4d22c31dd61e89868550b0afe4a500a3cf3"
   }
  }
 },
 "nbformat": 4,
 "nbformat_minor": 2
}

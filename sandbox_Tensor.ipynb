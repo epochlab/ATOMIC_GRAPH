{
 "cells": [
  {
   "cell_type": "code",
   "execution_count": 2,
   "metadata": {},
   "outputs": [],
   "source": [
    "import time\n",
    "import numpy as np\n",
    "\n",
    "from autograd.tensor import Tensor"
   ]
  },
  {
   "cell_type": "code",
   "execution_count": 4,
   "metadata": {},
   "outputs": [],
   "source": [
    "np.random.seed(42)"
   ]
  },
  {
   "cell_type": "code",
   "execution_count": 5,
   "metadata": {},
   "outputs": [],
   "source": [
    "# x = Tensor(np.array([2.0]))\n",
    "# y = Tensor(np.array([-4.0]))"
   ]
  },
  {
   "cell_type": "code",
   "execution_count": 6,
   "metadata": {},
   "outputs": [],
   "source": [
    "size = 10\n",
    "\n",
    "x = Tensor(np.ones([size, size]))\n",
    "y = Tensor(np.random.rand(size, size))"
   ]
  },
  {
   "cell_type": "code",
   "execution_count": 7,
   "metadata": {},
   "outputs": [],
   "source": [
    "st = time.monotonic()\n",
    "z = x * y\n",
    "et = time.monotonic()\n",
    "s = et-st"
   ]
  },
  {
   "cell_type": "code",
   "execution_count": 10,
   "metadata": {},
   "outputs": [
    {
     "name": "stdout",
     "output_type": "stream",
     "text": [
      "Tensor array([[0.37454012, 0.9507143 , 0.7319939 , 0.5986585 , 0.15601864,\n",
      "        0.15599452, 0.05808361, 0.8661761 , 0.601115  , 0.7080726 ],\n",
      "       [0.02058449, 0.96990985, 0.83244264, 0.21233912, 0.18182497,\n",
      "        0.1834045 , 0.30424225, 0.52475643, 0.43194503, 0.29122913],\n",
      "       [0.6118529 , 0.13949387, 0.29214466, 0.36636186, 0.45606998,\n",
      "        0.785176  , 0.19967379, 0.5142344 , 0.59241456, 0.04645041],\n",
      "       [0.60754484, 0.17052412, 0.06505159, 0.94888556, 0.965632  ,\n",
      "        0.80839735, 0.30461377, 0.09767211, 0.684233  , 0.4401525 ],\n",
      "       [0.12203824, 0.4951769 , 0.03438852, 0.9093204 , 0.25877997,\n",
      "        0.66252226, 0.31171107, 0.52006805, 0.54671025, 0.18485446],\n",
      "       [0.96958464, 0.77513283, 0.93949896, 0.89482737, 0.5979    ,\n",
      "        0.9218742 , 0.08849251, 0.19598286, 0.04522729, 0.32533032],\n",
      "       [0.3886773 , 0.27134904, 0.8287375 , 0.35675332, 0.2809345 ,\n",
      "        0.54269606, 0.14092423, 0.802197  , 0.07455064, 0.9868869 ],\n",
      "       [0.77224475, 0.19871569, 0.00552212, 0.81546146, 0.7068573 ,\n",
      "        0.7290072 , 0.77127033, 0.07404465, 0.35846573, 0.11586906],\n",
      "       [0.86310345, 0.6232981 , 0.33089802, 0.06355835, 0.31098232,\n",
      "        0.32518333, 0.72960615, 0.63755745, 0.88721275, 0.47221494],\n",
      "       [0.11959425, 0.7132448 , 0.76078504, 0.5612772 , 0.7709672 ,\n",
      "        0.4937956 , 0.52273285, 0.42754102, 0.02541913, 0.10789143]],\n",
      "      dtype=float32) with grad None\n",
      "9.650000000505088e-05\n",
      "{<autograd.tensor.Tensor object at 0x7f910824fb20>, <autograd.tensor.Tensor object at 0x7f90fa2e9dc0>} *\n",
      "(10, 10)\n"
     ]
    }
   ],
   "source": [
    "print(z)\n",
    "print(s)\n",
    "print(z._prev, z._op)\n",
    "print(z.shape)"
   ]
  }
 ],
 "metadata": {
  "kernelspec": {
   "display_name": "Python 3.9.13 ('dev')",
   "language": "python",
   "name": "python3"
  },
  "language_info": {
   "codemirror_mode": {
    "name": "ipython",
    "version": 3
   },
   "file_extension": ".py",
   "mimetype": "text/x-python",
   "name": "python",
   "nbconvert_exporter": "python",
   "pygments_lexer": "ipython3",
   "version": "3.9.13"
  },
  "orig_nbformat": 4,
  "vscode": {
   "interpreter": {
    "hash": "e22c083f026c7769b83b8857fa3ac4d22c31dd61e89868550b0afe4a500a3cf3"
   }
  }
 },
 "nbformat": 4,
 "nbformat_minor": 2
}
